{
  "nbformat": 4,
  "nbformat_minor": 0,
  "metadata": {
    "colab": {
      "provenance": [],
      "include_colab_link": true
    },
    "kernelspec": {
      "name": "python3",
      "display_name": "Python 3"
    },
    "language_info": {
      "name": "python"
    }
  },
  "cells": [
    {
      "cell_type": "markdown",
      "metadata": {
        "id": "view-in-github",
        "colab_type": "text"
      },
      "source": [
        "<a href=\"https://colab.research.google.com/github/Mytros/DS_ML_homework/blob/main/HW_2_2_%D0%9D%D0%B5%D0%B7%D0%B1%D0%B0%D0%BB%D0%B0%D0%BD%D1%81%D0%BE%D0%B2%D0%B0%D0%BD%D0%B0_%D0%B1%D0%B0%D0%B3%D0%B0%D1%82%D0%BE%D0%BA%D0%BB%D0%B0%D1%81%D0%BE%D0%B2%D0%B0_%D0%BA%D0%BB%D0%B0%D1%81%D0%B8%D1%84%D1%96%D0%BA%D0%B0%D1%86%D1%96%D1%8F_Dmytro_Koval.ipynb\" target=\"_parent\"><img src=\"https://colab.research.google.com/assets/colab-badge.svg\" alt=\"Open In Colab\"/></a>"
      ]
    },
    {
      "cell_type": "markdown",
      "source": [
        "У цьому ДЗ ми потренуємось розв'язувати задачу багатокласової класифікації за допомогою логістичної регресії з використанням стратегій One-vs-Rest та One-vs-One, оцінити якість моделей та порівняти стратегії."
      ],
      "metadata": {
        "id": "VUPArbcFJKzJ"
      }
    },
    {
      "cell_type": "markdown",
      "source": [
        "### Опис задачі і даних\n",
        "\n",
        "**Контекст**\n",
        "\n",
        "В цьому ДЗ ми працюємо з даними про сегментацію клієнтів.\n",
        "\n",
        "Сегментація клієнтів – це практика поділу бази клієнтів на групи індивідів, які схожі між собою за певними критеріями, що мають значення для маркетингу, такими як вік, стать, інтереси та звички у витратах.\n",
        "\n",
        "Компанії, які використовують сегментацію клієнтів, виходять з того, що кожен клієнт є унікальним і що їхні маркетингові зусилля будуть більш ефективними, якщо вони орієнтуватимуться на конкретні, менші групи зі зверненнями, які ці споживачі вважатимуть доречними та які спонукатимуть їх до купівлі. Компанії також сподіваються отримати глибше розуміння уподобань та потреб своїх клієнтів з метою виявлення того, що кожен сегмент цінує найбільше, щоб точніше адаптувати маркетингові матеріали до цього сегменту.\n",
        "\n",
        "**Зміст**.\n",
        "\n",
        "Автомобільна компанія планує вийти на нові ринки зі своїми існуючими продуктами (P1, P2, P3, P4 і P5). Після інтенсивного маркетингового дослідження вони дійшли висновку, що поведінка нового ринку схожа на їхній існуючий ринок.\n",
        "\n",
        "На своєму існуючому ринку команда з продажу класифікувала всіх клієнтів на 4 сегменти (A, B, C, D). Потім вони здійснювали сегментовані звернення та комунікацію з різними сегментами клієнтів. Ця стратегія працювала для них надзвичайно добре. Вони планують використати ту саму стратегію на нових ринках і визначили 2627 нових потенційних клієнтів.\n",
        "\n",
        "Ви маєте допомогти менеджеру передбачити правильну групу для нових клієнтів.\n",
        "\n",
        "В цьому ДЗ використовуємо дані `customer_segmentation_train.csv`[скачати дані](https://drive.google.com/file/d/1VU1y2EwaHkVfr5RZ1U4MPWjeflAusK3w/view?usp=sharing). Це `train.csv`з цього [змагання](https://www.kaggle.com/datasets/abisheksudarshan/customer-segmentation/data?select=train.csv)"
      ],
      "metadata": {
        "id": "7f4tzX6YomVv"
      }
    },
    {
      "cell_type": "markdown",
      "source": [
        "**Завдання 1.** Завантажте та підготуйте датасет до аналізу. Виконайте обробку пропущених значень та необхідне кодування категоріальних ознак. Розбийте на тренувальну і тестувальну вибірку, де в тесті 20%. Памʼятаємо, що весь препроцесинг ліпше все ж тренувати на тренувальній вибірці і на тестувальній лише використовувати вже натреновані трансформери.\n",
        "Але в даному випадку оскільки значень в категоріях небагато, можна зробити обробку і на оригінальних даних, а потім розбити - це простіше. Можна також реалізувати процесинг і тренування моделі з пайплайнами. Обирайте як вам зручніше."
      ],
      "metadata": {
        "id": "NZFXPKx1JX-3"
      }
    },
    {
      "cell_type": "code",
      "source": [
        "import pandas as pd\n",
        "import numpy as np\n",
        "from sklearn.model_selection import train_test_split\n",
        "from sklearn.preprocessing import LabelEncoder\n",
        "from sklearn.compose import ColumnTransformer\n",
        "from sklearn.pipeline import Pipeline\n",
        "from sklearn.impute import SimpleImputer\n",
        "from sklearn.preprocessing import OneHotEncoder\n",
        "from sklearn.linear_model import LogisticRegression\n",
        "from sklearn.metrics import classification_report, accuracy_score\n",
        "from sklearn.multiclass import OneVsOneClassifier\n",
        "\n",
        "\n",
        "from google.colab import drive"
      ],
      "metadata": {
        "id": "KZq-QrAejv8E"
      },
      "execution_count": null,
      "outputs": []
    },
    {
      "cell_type": "code",
      "source": [
        "drive.mount('/content/drive')\n",
        "df = pd.read_csv('/content/drive/MyDrive/DS_ML/customer_segmentation_train.csv', index_col = 0)\n",
        "\n",
        "import warnings\n",
        "warnings.filterwarnings('ignore')"
      ],
      "metadata": {
        "id": "I-mwGqPS5GAT",
        "colab": {
          "base_uri": "https://localhost:8080/"
        },
        "outputId": "1e4a68fd-e1da-4022-c6e3-195b3c4edc21"
      },
      "execution_count": null,
      "outputs": [
        {
          "output_type": "stream",
          "name": "stdout",
          "text": [
            "Drive already mounted at /content/drive; to attempt to forcibly remount, call drive.mount(\"/content/drive\", force_remount=True).\n"
          ]
        }
      ]
    },
    {
      "cell_type": "code",
      "source": [
        "missing_values = df.isnull().sum()\n",
        "print(\"Missing values:\\n\", missing_values[missing_values > 0])"
      ],
      "metadata": {
        "colab": {
          "base_uri": "https://localhost:8080/"
        },
        "id": "ib0HA3S-hm2A",
        "outputId": "b4da784f-310e-44ca-9d82-7bffbbb26eb2"
      },
      "execution_count": null,
      "outputs": [
        {
          "output_type": "stream",
          "name": "stdout",
          "text": [
            "Missing values:\n",
            " Ever_Married       140\n",
            "Graduated           78\n",
            "Profession         124\n",
            "Work_Experience    829\n",
            "Family_Size        335\n",
            "Var_1               76\n",
            "dtype: int64\n"
          ]
        }
      ]
    },
    {
      "cell_type": "code",
      "source": [
        "# Cat\n",
        "categorical_cols = df.select_dtypes(include='object').columns.tolist()\n",
        "\n",
        "# Num - target 'Segmentation'\n",
        "numerical_cols = df.select_dtypes(include='number').drop('Segmentation', errors='ignore').columns.tolist()\n",
        "\n",
        "print(\"Cat:\", categorical_cols)\n",
        "print(\"Num:\", numerical_cols)"
      ],
      "metadata": {
        "colab": {
          "base_uri": "https://localhost:8080/"
        },
        "id": "FwTHxYDOh6to",
        "outputId": "a9dccff2-f88b-4be7-ebb4-2d95a8b9ed0a"
      },
      "execution_count": null,
      "outputs": [
        {
          "output_type": "stream",
          "name": "stdout",
          "text": [
            "Cat: ['Gender', 'Ever_Married', 'Graduated', 'Profession', 'Spending_Score', 'Var_1', 'Segmentation']\n",
            "Num: ['Age', 'Work_Experience', 'Family_Size']\n"
          ]
        }
      ]
    },
    {
      "cell_type": "code",
      "source": [
        "for col in numerical_cols:\n",
        "    df[col] = pd.to_numeric(df[col], errors='coerce')\n",
        "\n",
        "df[numerical_cols] = df[numerical_cols].fillna(df[numerical_cols].mean())\n",
        "df[categorical_cols] = df[categorical_cols].fillna(df[categorical_cols].mode().iloc[0])\n",
        "\n",
        "print(\"missing values:\\n\", df.isnull().sum().sum())\n"
      ],
      "metadata": {
        "colab": {
          "base_uri": "https://localhost:8080/"
        },
        "id": "qsB2hGWDkn-z",
        "outputId": "02b2b730-7aa8-401f-f3dc-f3fcbde1238e"
      },
      "execution_count": null,
      "outputs": [
        {
          "output_type": "stream",
          "name": "stdout",
          "text": [
            "missing values:\n",
            " 0\n"
          ]
        }
      ]
    },
    {
      "cell_type": "code",
      "source": [
        "le_target = LabelEncoder()\n",
        "df['Segmentation'] = le_target.fit_transform(df['Segmentation'])"
      ],
      "metadata": {
        "id": "B2cR3t33ky_U"
      },
      "execution_count": null,
      "outputs": []
    },
    {
      "cell_type": "code",
      "source": [
        "X = df.drop('Segmentation', axis=1)\n",
        "y = df['Segmentation']\n",
        "\n",
        "X_train, X_test, y_train, y_test = train_test_split(\n",
        "    X, y, test_size=0.2, stratify=y, random_state=42\n",
        ")\n",
        "\n",
        "print(f\"X_train: {X_train.shape}, X_test: {X_test.shape}\")\n",
        "print(\"Розподіл класів у y_train:\\n\", y_train.value_counts(normalize=True))\n",
        "print(\"Розподіл класів у y_test:\\n\", y_test.value_counts(normalize=True))"
      ],
      "metadata": {
        "colab": {
          "base_uri": "https://localhost:8080/"
        },
        "id": "laOVv0YDk16t",
        "outputId": "c5b379fe-8b57-4dfb-8088-7a78c7811046"
      },
      "execution_count": null,
      "outputs": [
        {
          "output_type": "stream",
          "name": "stdout",
          "text": [
            "X_train: (6454, 9), X_test: (1614, 9)\n",
            "Розподіл класів у y_train:\n",
            " Segmentation\n",
            "3    0.281066\n",
            "0    0.244500\n",
            "2    0.244190\n",
            "1    0.230245\n",
            "Name: proportion, dtype: float64\n",
            "Розподіл класів у y_test:\n",
            " Segmentation\n",
            "3    0.281289\n",
            "0    0.244114\n",
            "2    0.244114\n",
            "1    0.230483\n",
            "Name: proportion, dtype: float64\n"
          ]
        }
      ]
    },
    {
      "cell_type": "markdown",
      "source": [
        "**Завдання 2. Важливо уважно прочитати все формулювання цього завдання до кінця!**\n",
        "\n",
        "Застосуйте методи ресемплингу даних SMOTE та SMOTE-Tomek з бібліотеки imbalanced-learn до тренувальної вибірки. В результаті у Вас має вийти 2 тренувальних набори: з апсемплингом зі SMOTE, та з ресамплингом з SMOTE-Tomek.\n",
        "\n",
        "Увага! В нашому наборі даних є як категоріальні дані, так і звичайні числові. Базовий SMOTE не буде правильно працювати з категоріальними даними, але є його модифікація, яка буде. Тому в цього завдання є 2 виконання\n",
        "\n",
        "  1. Застосувати SMOTE базовий лише на НЕкатегоріальних ознаках.\n",
        "\n",
        "  2. Переглянути інформацію про метод [SMOTENC](https://imbalanced-learn.org/dev/references/generated/imblearn.over_sampling.SMOTENC.html#imblearn.over_sampling.SMOTENC) і використати цей метод в цій задачі. За цей спосіб буде +3 бали за це завдання і він рекомендований для виконання.\n",
        "\n",
        "  **Підказка**: аби скористатись SMOTENC треба створити змінну, яка містить індекси ознак, які є категоріальними (їх номер серед колонок) і передати при ініціації екземпляра класу `SMOTENC(..., categorical_features=cat_feature_indeces)`.\n",
        "  \n",
        "  Ви також можете розглянути варіант використання варіації SMOTE, який працює ЛИШЕ з категоріальними ознаками [SMOTEN](https://imbalanced-learn.org/dev/references/generated/imblearn.over_sampling.SMOTEN.html)"
      ],
      "metadata": {
        "id": "fhJzCBA7P0f8"
      }
    },
    {
      "cell_type": "code",
      "source": [
        "numeric_cols = X.select_dtypes(include=np.number).columns.tolist()\n",
        "categorical_cols = X.select_dtypes(include='object').columns.tolist()\n",
        "\n",
        "print(\"Cat cols:\", categorical_cols)\n",
        "print(\"Num cols:\", numeric_cols)"
      ],
      "metadata": {
        "colab": {
          "base_uri": "https://localhost:8080/"
        },
        "id": "ZKQ7y_a-mClT",
        "outputId": "2292cbfd-2b86-470e-931a-324115d8c6d0"
      },
      "execution_count": null,
      "outputs": [
        {
          "output_type": "stream",
          "name": "stdout",
          "text": [
            "Cat cols: ['Gender', 'Ever_Married', 'Graduated', 'Profession', 'Spending_Score', 'Var_1']\n",
            "Num cols: ['Age', 'Work_Experience', 'Family_Size']\n"
          ]
        }
      ]
    },
    {
      "cell_type": "code",
      "source": [
        "from sklearn.pipeline import Pipeline\n",
        "from sklearn.impute import SimpleImputer\n",
        "from sklearn.preprocessing import OneHotEncoder\n",
        "from sklearn.compose import ColumnTransformer\n",
        "\n",
        "# Pipeline\n",
        "num_pipeline = Pipeline([\n",
        "    ('imputer', SimpleImputer(strategy='mean'))\n",
        "])\n",
        "\n",
        "cat_pipeline = Pipeline([\n",
        "    ('imputer', SimpleImputer(strategy='most_frequent')),\n",
        "    ('encoder', OneHotEncoder(handle_unknown='ignore', sparse_output=False))\n",
        "])\n",
        "\n",
        "preprocessor = ColumnTransformer([\n",
        "    ('num', num_pipeline, numeric_cols),\n",
        "    ('cat', cat_pipeline, categorical_cols)\n",
        "])\n"
      ],
      "metadata": {
        "id": "OHu09FpmlZSr"
      },
      "execution_count": null,
      "outputs": []
    },
    {
      "cell_type": "code",
      "source": [
        "X_train_processed = preprocessor.fit_transform(X_train)\n",
        "X_train_processed.shape\n"
      ],
      "metadata": {
        "colab": {
          "base_uri": "https://localhost:8080/"
        },
        "id": "fwBUEKLplgoX",
        "outputId": "375a8faf-1c6e-4f60-bccf-d38700fcc057"
      },
      "execution_count": null,
      "outputs": [
        {
          "output_type": "execute_result",
          "data": {
            "text/plain": [
              "(6454, 28)"
            ]
          },
          "metadata": {},
          "execution_count": 85
        }
      ]
    },
    {
      "cell_type": "code",
      "source": [
        "cat_indices = [X_train.columns.get_loc(col) for col in categorical_cols]\n",
        "print(\"cat cols SMOTENC:\", cat_indices)\n"
      ],
      "metadata": {
        "colab": {
          "base_uri": "https://localhost:8080/"
        },
        "id": "bL0cpvLymmEr",
        "outputId": "a529d666-2d5c-4174-96f3-91c92aaae3fd"
      },
      "execution_count": null,
      "outputs": [
        {
          "output_type": "stream",
          "name": "stdout",
          "text": [
            "cat cols SMOTENC: [0, 1, 3, 4, 6, 8]\n"
          ]
        }
      ]
    },
    {
      "cell_type": "code",
      "source": [
        "from imblearn.over_sampling import SMOTENC\n",
        "\n",
        "smotenc = SMOTENC(\n",
        "    categorical_features=cat_indices,\n",
        "    random_state=42\n",
        ")\n",
        "\n",
        "X_resampled_smote, y_resampled_smote = smotenc.fit_resample(X_train.values, y_train)\n",
        "print(\"SMOTENC: shape X_resampled:\", X_resampled_smote.shape, \"y_resampled:\", y_resampled_smote.shape)\n"
      ],
      "metadata": {
        "colab": {
          "base_uri": "https://localhost:8080/"
        },
        "id": "L0MJG5h2mv6L",
        "outputId": "691d7e97-b877-4adf-c7a7-a67098d5cd85"
      },
      "execution_count": null,
      "outputs": [
        {
          "output_type": "stream",
          "name": "stdout",
          "text": [
            "SMOTENC: shape X_resampled: (7256, 9) y_resampled: (7256,)\n"
          ]
        }
      ]
    },
    {
      "cell_type": "code",
      "source": [
        "from imblearn.combine import SMOTETomek\n",
        "\n",
        "smote_tomek = SMOTETomek(\n",
        "    random_state=42\n",
        ")\n",
        "\n",
        "X_resampled_smote_tomek, y_resampled_smote_tomek = smote_tomek.fit_resample(X_train_processed, y_train)\n",
        "print(\"SMOTE-Tomek: shape X_resampled:\", X_resampled_smote_tomek.shape, \"y_resampled:\", y_resampled_smote_tomek.shape)\n"
      ],
      "metadata": {
        "colab": {
          "base_uri": "https://localhost:8080/"
        },
        "id": "QfTWftsPm8kk",
        "outputId": "ade525a1-553c-425c-e9eb-4aed85b02956"
      },
      "execution_count": null,
      "outputs": [
        {
          "output_type": "stream",
          "name": "stdout",
          "text": [
            "SMOTE-Tomek: shape X_resampled: (6390, 28) y_resampled: (6390,)\n"
          ]
        }
      ]
    },
    {
      "cell_type": "markdown",
      "source": [
        "**Завдання 3**.\n",
        "  1. Навчіть модель логістичної регресії з використанням стратегії One-vs-Rest з логістичною регресією на оригінальних даних, збалансованих з SMOTE, збалансованих з Smote-Tomek.  \n",
        "  2. Виміряйте якість кожної з натренованих моделей використовуючи `sklearn.metrics.classification_report`.\n",
        "  3. Напишіть, яку метрику ви обрали для порівняння моделей.\n",
        "  4. Яка модель найкраща?\n",
        "  5. Якщо немає суттєвої різниці між моделями - напишіть свою гіпотезу, чому?"
      ],
      "metadata": {
        "id": "ja4w_GgmT4D0"
      }
    },
    {
      "cell_type": "code",
      "source": [
        "from sklearn.linear_model import LogisticRegression\n",
        "from sklearn.pipeline import Pipeline\n",
        "from sklearn.metrics import classification_report, accuracy_score\n",
        "\n",
        "pipeline_ovr_original = Pipeline([\n",
        "    ('preprocessing', preprocessor),\n",
        "    ('classifier', LogisticRegression(multi_class='ovr', random_state=42))\n",
        "])\n",
        "\n",
        "pipeline_ovr_original.fit(X_train, y_train)\n",
        "y_pred_ovr_original = pipeline_ovr_original.predict(X_test)\n",
        "\n",
        "print(\" Original data:\")\n",
        "print(classification_report(y_test, y_pred_ovr_original))\n",
        "print(\"Accuracy:\", accuracy_score(y_test, y_pred_ovr_original))\n"
      ],
      "metadata": {
        "colab": {
          "base_uri": "https://localhost:8080/"
        },
        "id": "SXO16wj1oYwd",
        "outputId": "c7729b0f-0acc-4414-f365-16b10ac25dbb"
      },
      "execution_count": null,
      "outputs": [
        {
          "output_type": "stream",
          "name": "stdout",
          "text": [
            " Original data:\n",
            "              precision    recall  f1-score   support\n",
            "\n",
            "           0       0.41      0.46      0.43       394\n",
            "           1       0.39      0.16      0.23       372\n",
            "           2       0.49      0.63      0.55       394\n",
            "           3       0.65      0.76      0.70       454\n",
            "\n",
            "    accuracy                           0.51      1614\n",
            "   macro avg       0.49      0.50      0.48      1614\n",
            "weighted avg       0.49      0.51      0.49      1614\n",
            "\n",
            "Accuracy: 0.5142503097893433\n"
          ]
        }
      ]
    },
    {
      "cell_type": "code",
      "source": [
        "# SMOTENC\n",
        "X_resampled_smote_processed = preprocessor.transform(pd.DataFrame(X_resampled_smote, columns=X_train.columns))\n",
        "\n",
        "model_ovr_smote = LogisticRegression(multi_class='ovr', random_state=42)\n",
        "model_ovr_smote.fit(X_resampled_smote_processed, y_resampled_smote)\n",
        "\n",
        "y_pred_ovr_smote = model_ovr_smote.predict(preprocessor.transform(X_test))\n",
        "\n",
        "print(\"SMOTENC:\")\n",
        "print(classification_report(y_test, y_pred_ovr_smote))\n",
        "print(\"Accuracy:\", accuracy_score(y_test, y_pred_ovr_smote))\n"
      ],
      "metadata": {
        "colab": {
          "base_uri": "https://localhost:8080/"
        },
        "id": "JQmx1W4po4mM",
        "outputId": "69e27e5a-6cb8-4614-c92e-68e82add9264"
      },
      "execution_count": null,
      "outputs": [
        {
          "output_type": "stream",
          "name": "stdout",
          "text": [
            "SMOTENC:\n",
            "              precision    recall  f1-score   support\n",
            "\n",
            "           0       0.42      0.49      0.45       394\n",
            "           1       0.42      0.25      0.31       372\n",
            "           2       0.52      0.60      0.56       394\n",
            "           3       0.67      0.72      0.69       454\n",
            "\n",
            "    accuracy                           0.52      1614\n",
            "   macro avg       0.51      0.51      0.50      1614\n",
            "weighted avg       0.52      0.52      0.51      1614\n",
            "\n",
            "Accuracy: 0.5247831474597274\n"
          ]
        }
      ]
    },
    {
      "cell_type": "code",
      "source": [
        "model_ovr_smote_tomek = LogisticRegression(multi_class='ovr', max_iter=1000, random_state=42)\n",
        "model_ovr_smote_tomek.fit(X_resampled_smote_tomek, y_resampled_smote_tomek)\n",
        "\n",
        "y_pred_ovr_smote_tomek = model_ovr_smote_tomek.predict(preprocessor.transform(X_test))\n",
        "\n",
        "print(\"SMOTE-Tomek:\")\n",
        "print(classification_report(y_test, y_pred_ovr_smote_tomek))\n",
        "print(\"Accuracy:\", accuracy_score(y_test, y_pred_ovr_smote_tomek))\n"
      ],
      "metadata": {
        "colab": {
          "base_uri": "https://localhost:8080/"
        },
        "id": "9yrT3WGrp1s9",
        "outputId": "6519cde4-4477-4446-8e55-99e6b752dc5a"
      },
      "execution_count": null,
      "outputs": [
        {
          "output_type": "stream",
          "name": "stdout",
          "text": [
            "SMOTE-Tomek:\n",
            "              precision    recall  f1-score   support\n",
            "\n",
            "           0       0.43      0.47      0.45       394\n",
            "           1       0.38      0.26      0.31       372\n",
            "           2       0.51      0.58      0.54       394\n",
            "           3       0.68      0.72      0.70       454\n",
            "\n",
            "    accuracy                           0.52      1614\n",
            "   macro avg       0.50      0.51      0.50      1614\n",
            "weighted avg       0.51      0.52      0.51      1614\n",
            "\n",
            "Accuracy: 0.5192069392812887\n"
          ]
        }
      ]
    },
    {
      "cell_type": "code",
      "source": [
        "from sklearn.metrics import f1_score\n",
        "\n",
        "macro_f1_original = f1_score(y_test, y_pred_ovr_original, average='macro')\n",
        "macro_f1_smote = f1_score(y_test, y_pred_ovr_smote, average='macro')\n",
        "macro_f1_smote_tomek = f1_score(y_test, y_pred_ovr_smote_tomek, average='macro')\n",
        "\n",
        "print(\"Macro-F1:\")\n",
        "print(f\"Original: {macro_f1_original:.4f}\")\n",
        "print(f\"SMOTENC: {macro_f1_smote:.4f}\")\n",
        "print(f\"SMOTE-Tomek: {macro_f1_smote_tomek:.4f}\")\n"
      ],
      "metadata": {
        "colab": {
          "base_uri": "https://localhost:8080/"
        },
        "id": "H3CafakPq54D",
        "outputId": "f741cc8a-56c0-4f5c-f254-fd8bf0c95301"
      },
      "execution_count": null,
      "outputs": [
        {
          "output_type": "stream",
          "name": "stdout",
          "text": [
            "Macro-F1:\n",
            "Original: 0.4782\n",
            "SMOTENC: 0.5044\n",
            "SMOTE-Tomek: 0.5005\n"
          ]
        }
      ]
    },
    {
      "cell_type": "markdown",
      "source": [
        "Висновок:\n",
        "\n",
        "- Модель, натренована на даних після SMOTENC, показала найвищий macro F1-score (0.50) та найкращу accuracy (0.5248) серед трьох моделей.\n",
        "\n",
        "- Але різниця між моделями є мінімальною. Отже, навіть збалансування класів через SMOTE або SMOTE-Tomek не дає суттєвого поліпшення. Можливо, у  моделі просто немає достатньо сильних фічей у датасеті для якісного розділення сегментів."
      ],
      "metadata": {
        "id": "AnnUCaLmrc6z"
      }
    },
    {
      "cell_type": "code",
      "source": [],
      "metadata": {
        "id": "v5gUptRErjW8"
      },
      "execution_count": null,
      "outputs": []
    }
  ]
}