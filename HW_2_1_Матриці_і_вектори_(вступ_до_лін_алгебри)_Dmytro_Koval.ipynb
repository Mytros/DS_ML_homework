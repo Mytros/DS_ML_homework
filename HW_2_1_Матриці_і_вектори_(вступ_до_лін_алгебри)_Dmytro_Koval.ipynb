{
  "nbformat": 4,
  "nbformat_minor": 0,
  "metadata": {
    "colab": {
      "provenance": [],
      "include_colab_link": true
    },
    "kernelspec": {
      "name": "python3",
      "display_name": "Python 3"
    },
    "language_info": {
      "name": "python"
    }
  },
  "cells": [
    {
      "cell_type": "markdown",
      "metadata": {
        "id": "view-in-github",
        "colab_type": "text"
      },
      "source": [
        "<a href=\"https://colab.research.google.com/github/Mytros/DS_ML_homework/blob/main/HW_2_1_%D0%9C%D0%B0%D1%82%D1%80%D0%B8%D1%86%D1%96_%D1%96_%D0%B2%D0%B5%D0%BA%D1%82%D0%BE%D1%80%D0%B8_(%D0%B2%D1%81%D1%82%D1%83%D0%BF_%D0%B4%D0%BE_%D0%BB%D1%96%D0%BD_%D0%B0%D0%BB%D0%B3%D0%B5%D0%B1%D1%80%D0%B8)_Dmytro_Koval.ipynb\" target=\"_parent\"><img src=\"https://colab.research.google.com/assets/colab-badge.svg\" alt=\"Open In Colab\"/></a>"
      ]
    },
    {
      "cell_type": "markdown",
      "source": [
        "### Завдання 1: Створення матриць та векторів\n",
        "1. Створіть `numpy` вектор `vector` розмірністю 10 з випадковими дійсними значеннями в діапазоні від 0 до 1. Можна скористатись двома альтернативними варіантами:\n",
        "  1. Генерація випадкових чисел з модулем [`random.uniform`](https://docs.python.org/3/library/random.html).\n",
        "  2. Створення вектора з допомогою метода `numpy` [np.random.rand](https://numpy.org/doc/stable/reference/random/generated/numpy.random.rand.html)\n",
        "\n",
        "2. Створіть матрицю `matrix` типу `numpy.array` розмірності 3x3 з наступними значеннями\n",
        "\n",
        "  $$\n",
        "  matrix = \\begin{bmatrix}\n",
        "  11 & 14 & 17 \\\\\n",
        "  20 & 23 & 26 \\\\\n",
        "  29 & 32 & 35\n",
        "  \\end{bmatrix}\n",
        "  $$\n",
        "\n",
        "  будь-яким відомими Вам способом.\n",
        "\n",
        "Виведіть на екран вектор і матрицю, а також їх розміри.\n"
      ],
      "metadata": {
        "id": "efug1V4CM0lT"
      }
    },
    {
      "cell_type": "code",
      "source": [
        "import numpy as np\n",
        "import random\n",
        "\n",
        "\n",
        "# 1.1 np.random.rand\n",
        "vector = np.random.rand(10)\n",
        "\n",
        "# Створення матриці 3x3\n",
        "A = np.array([\n",
        "    [11, 20, 29],\n",
        "    [14, 23, 32],\n",
        "    [17, 26, 35]\n",
        "])\n",
        "\n",
        "print(\"Random vector:\\n\", vector_rand)\n",
        "print(\"Random vector shape:\", vector_rand.shape)\n",
        "\n",
        "print(\"Matrix:\\n\", A)\n",
        "print(\"Matrix shape:\", A.shape)\n"
      ],
      "metadata": {
        "id": "jxA_lG2_VIMe",
        "colab": {
          "base_uri": "https://localhost:8080/"
        },
        "outputId": "0bb94051-e49a-4910-a616-74471335027c"
      },
      "execution_count": null,
      "outputs": [
        {
          "output_type": "stream",
          "name": "stdout",
          "text": [
            "Random vector:\n",
            " [0.65415616 0.83103125 0.28368971 0.68517274 0.40469    0.55264197\n",
            " 0.29211902 0.32331341 0.83064029 0.50047033]\n",
            "Random vector shape: (10,)\n",
            "Matrix:\n",
            " [[11 20 29]\n",
            " [14 23 32]\n",
            " [17 26 35]]\n",
            "Matrix shape: (3, 3)\n"
          ]
        }
      ]
    },
    {
      "cell_type": "markdown",
      "source": [
        "\n",
        "### Завдання 2: Операції над векторами та матрицями\n",
        "Виконайте кожну з зазначених операцій над зазначеними оʼєктами і виведіть результат на екран:\n",
        "1. Додайте до кожного значення вектора `vector` число 10 і округліть кожне значення до 2 знаків після коми без використання циклів.\n",
        "2. Помножте кожен елемент матриці з першого завдання на 2 без використання циклів.\n",
        "3. Створіть новий вектор, який містить квадрат кожного `vector` без циклів.\n"
      ],
      "metadata": {
        "id": "TSJ1P4OuOVe2"
      }
    },
    {
      "cell_type": "code",
      "source": [
        "# 2.1\n",
        "vector_plus_10 = np.round(vector + 10, 2)\n",
        "print(\"2.1. Vector + 10 (round 2 digits):\", vector_plus_10, \"\\n\")\n",
        "\n",
        "# 2.2\n",
        "matrix_multiplied = matrix * 2\n",
        "print(\"2.2. Matrix * 2:\\n\", matrix_multiplied,\"\\n\")\n",
        "\n",
        "# 2.3\n",
        "vector_squared = vector ** 2\n",
        "print(\"2.3. Vector squared:\\n\", vector_squared)"
      ],
      "metadata": {
        "id": "nAAojtyUVJXN",
        "colab": {
          "base_uri": "https://localhost:8080/"
        },
        "outputId": "ed70b00e-5567-43c4-d589-bc4dc30e37bc"
      },
      "execution_count": null,
      "outputs": [
        {
          "output_type": "stream",
          "name": "stdout",
          "text": [
            "2.1. Vector + 10 (round 2 digits): [10.71 10.57 10.14 10.84 10.07 10.66 10.39 10.91 10.58 10.66] \n",
            "\n",
            "2.2. Matrix * 2:\n",
            " [[22 40 58]\n",
            " [28 46 64]\n",
            " [34 52 70]] \n",
            "\n",
            "2.3. Vector squared:\n",
            " [0.50767632 0.3276435  0.01934101 0.71345702 0.00483594 0.43162701\n",
            " 0.15117615 0.83289569 0.33164784 0.4305054 ]\n"
          ]
        }
      ]
    },
    {
      "cell_type": "markdown",
      "source": [
        "\n",
        "### Завдання 3: Множення матриць\n",
        "1. Задані дві матриці `A` і `B`розмірностями 3x2 та 2х3. Виконайте їхнє множення, щоб отримати матрицю 2x2. Виведіть результуючу матрицю `result_matrix` на екран.\n",
        "\n",
        "2. Заданий вектор `C` розмірністю 2х1. Подумайте спочатку, яку розмірність Ви отрмаєте, коли домножите `result_matrix` на вектор `C` і який результат буде. А потім виконайте множення і виведіть результат на екран.\n",
        "\n",
        "3. Задана матриця `D` розмірністю 2х2. Подумайте спочатку, яку розмірність Ви отрмаєте, коли домножите `result_matrix` на матрицю `D` і який результат буде. А потім виконайте множення і виведіть результат на екран."
      ],
      "metadata": {
        "id": "u6RvWVfhPy-k"
      }
    },
    {
      "cell_type": "code",
      "source": [
        "A = np.array(\n",
        "    [[0.18, 0.53],\n",
        "     [0.75, 0.47],\n",
        "     [0.35, 0.21]])\n",
        "\n",
        "B = np.array(\n",
        "    [[0.17, 0.58, 0.75],\n",
        "     [0.38, 0.11, 0.15]])\n",
        "\n",
        "C = np.array([[0], [1]])\n",
        "\n",
        "D = np.array([[0,1], [1,0]])\n",
        "\n",
        "display(A, B, C, D)"
      ],
      "metadata": {
        "id": "RwXfPzlbSJ44",
        "colab": {
          "base_uri": "https://localhost:8080/",
          "height": 173
        },
        "outputId": "65946f31-9595-49c5-a38b-9d6ac722a41d"
      },
      "execution_count": null,
      "outputs": [
        {
          "output_type": "display_data",
          "data": {
            "text/plain": [
              "array([[0.18, 0.53],\n",
              "       [0.75, 0.47],\n",
              "       [0.35, 0.21]])"
            ]
          },
          "metadata": {}
        },
        {
          "output_type": "display_data",
          "data": {
            "text/plain": [
              "array([[0.17, 0.58, 0.75],\n",
              "       [0.38, 0.11, 0.15]])"
            ]
          },
          "metadata": {}
        },
        {
          "output_type": "display_data",
          "data": {
            "text/plain": [
              "array([[0],\n",
              "       [1]])"
            ]
          },
          "metadata": {}
        },
        {
          "output_type": "display_data",
          "data": {
            "text/plain": [
              "array([[0, 1],\n",
              "       [1, 0]])"
            ]
          },
          "metadata": {}
        }
      ]
    },
    {
      "cell_type": "code",
      "source": [
        "# 3.1\n",
        "result_matrix = np.dot(B, A)\n",
        "print(\"result_matrix (B @ A):\\n\", result_matrix)\n",
        "print(\"shape result_matrix:\", result_matrix.shape)\n"
      ],
      "metadata": {
        "id": "z7-boTbhVKkj",
        "colab": {
          "base_uri": "https://localhost:8080/"
        },
        "outputId": "1ee2c577-9420-4a6a-a83e-234ed91d6925"
      },
      "execution_count": null,
      "outputs": [
        {
          "output_type": "stream",
          "name": "stdout",
          "text": [
            "result_matrix (B @ A):\n",
            " [[0.7281 0.5202]\n",
            " [0.2034 0.2846]]\n",
            "shape result_matrix: (2, 2)\n"
          ]
        }
      ]
    },
    {
      "cell_type": "code",
      "source": [
        "# 3.2\n",
        "result_vector = np.dot(result_matrix, C)\n",
        "print(\"\\n Result_vector:\\n\", result_vector)\n",
        "print(\"Shape result_vector:\", result_vector.shape)"
      ],
      "metadata": {
        "colab": {
          "base_uri": "https://localhost:8080/"
        },
        "id": "5LEaozeQNZcI",
        "outputId": "fcba36cf-46f4-435d-fb9c-7867b2eb17b0"
      },
      "execution_count": null,
      "outputs": [
        {
          "output_type": "stream",
          "name": "stdout",
          "text": [
            "\n",
            " Result_vector:\n",
            " [[0.5202]\n",
            " [0.2846]]\n",
            "Shape result_vector: (2, 1)\n"
          ]
        }
      ]
    },
    {
      "cell_type": "code",
      "source": [
        "# 3.3\n",
        "result_D = np.dot(result_matrix, D)\n",
        "print(\"\\n Result_matrix:\\n\", result_D)\n",
        "print(\"Shape result_matrix:\", result_D.shape)"
      ],
      "metadata": {
        "colab": {
          "base_uri": "https://localhost:8080/"
        },
        "id": "yKRSiP-wQvOi",
        "outputId": "86dc2d10-f345-4110-b66f-d2db1a8d8dac"
      },
      "execution_count": null,
      "outputs": [
        {
          "output_type": "stream",
          "name": "stdout",
          "text": [
            "\n",
            " Result_matrix:\n",
            " [[0.5202 0.7281]\n",
            " [0.2846 0.2034]]\n",
            "Shape result_matrix: (2, 2)\n"
          ]
        }
      ]
    },
    {
      "cell_type": "markdown",
      "source": [
        "\n",
        "### Завдання 4: Транспонування матриць\n",
        "1. Транспонуйте `result_matrix`.\n",
        "2. Зробіть транспонування вектора `vector` і виведіть форму нової структури. Чи бачите ви зміну?\n",
        "3. Використайте операцію `numpy.expand_dims` над вектором `vector` з аргументом axis=1. Запишіть отриманий результат в змінну `column_vector` і виведіть на екран. Порівняйте з `vector`.\n",
        "4. Зробіть транспонування `column_vector`, виведіть результат на екран разом з розмірностями отриманої структури.\n",
        "\n",
        "\n"
      ],
      "metadata": {
        "id": "wohp0_cxSGpl"
      }
    },
    {
      "cell_type": "code",
      "source": [
        "# 4.1\n",
        "result_matrix_T = result_matrix.T\n",
        "print(\"Result_matrix transposed:\\n\", result_matrix_T)\n",
        "print(\"Shape:\", result_matrix_T.shape)\n"
      ],
      "metadata": {
        "id": "4hFcq1baVLii",
        "colab": {
          "base_uri": "https://localhost:8080/"
        },
        "outputId": "0f92c246-884e-4077-faa9-6477541058c8"
      },
      "execution_count": null,
      "outputs": [
        {
          "output_type": "stream",
          "name": "stdout",
          "text": [
            "Result_matrix transposed:\n",
            " [[0.7281 0.2034]\n",
            " [0.5202 0.2846]]\n",
            "Shape: (2, 2)\n"
          ]
        }
      ]
    },
    {
      "cell_type": "code",
      "source": [
        "# 4.2\n",
        "vector_T = vector.T\n",
        "print(\"Vector.shape:\", vector.shape)\n",
        "print(\"Vector transposed.shape:\", vector_T.shape)\n"
      ],
      "metadata": {
        "colab": {
          "base_uri": "https://localhost:8080/"
        },
        "id": "BBpbKI_oTuY3",
        "outputId": "b822a8c9-6ba8-4e3c-c882-6b420ff5580e"
      },
      "execution_count": null,
      "outputs": [
        {
          "output_type": "stream",
          "name": "stdout",
          "text": [
            "Vector.shape: (10,)\n",
            "Vector transposed.shape: (10,)\n"
          ]
        }
      ]
    },
    {
      "cell_type": "markdown",
      "source": [
        "Так як це 1-вимірний \"масив\", то транспонування нічого не змінює."
      ],
      "metadata": {
        "id": "bfq6LhbSVOWZ"
      }
    },
    {
      "cell_type": "code",
      "source": [
        "# 4.3\n",
        "column_vector = np.expand_dims(vector, axis=1)\n",
        "print(\"Column_vector:\\n\", column_vector)\n",
        "print(\"Shape column_vector:\", column_vector.shape)\n"
      ],
      "metadata": {
        "colab": {
          "base_uri": "https://localhost:8080/"
        },
        "id": "NWcCI8UHUGjx",
        "outputId": "8df1d16f-fed3-48da-aef5-562ea4373118"
      },
      "execution_count": null,
      "outputs": [
        {
          "output_type": "stream",
          "name": "stdout",
          "text": [
            "Column_vector:\n",
            " [[0.71251408]\n",
            " [0.57240152]\n",
            " [0.13907196]\n",
            " [0.84466385]\n",
            " [0.0695409 ]\n",
            " [0.65698327]\n",
            " [0.38881377]\n",
            " [0.91263119]\n",
            " [0.57588874]\n",
            " [0.6561291 ]]\n",
            "Shape column_vector: (10, 1)\n"
          ]
        }
      ]
    },
    {
      "cell_type": "markdown",
      "source": [
        "Column_vector тепер повноцінний вектор-стовбець, тобто повноцінна матриця у порівнянні з vector.\n"
      ],
      "metadata": {
        "id": "T3gl1NTbWG-M"
      }
    },
    {
      "cell_type": "code",
      "source": [
        "# 4.4\n",
        "column_vector_T = column_vector.T\n",
        "print(\"Transposed column_vector:\\n\", column_vector_T)\n",
        "print(\"Shape:\", column_vector_T.shape)\n"
      ],
      "metadata": {
        "colab": {
          "base_uri": "https://localhost:8080/"
        },
        "id": "vVDVm6bcV86-",
        "outputId": "dd917cf9-97cb-4e76-c4bb-43dcc7654ab9"
      },
      "execution_count": null,
      "outputs": [
        {
          "output_type": "stream",
          "name": "stdout",
          "text": [
            "Transposed column_vector:\n",
            " [[0.71251408 0.57240152 0.13907196 0.84466385 0.0695409  0.65698327\n",
            "  0.38881377 0.91263119 0.57588874 0.6561291 ]]\n",
            "Shape: (1, 10)\n"
          ]
        }
      ]
    },
    {
      "cell_type": "markdown",
      "source": [
        "Column_vector можна транспонувати на відміну від vector."
      ],
      "metadata": {
        "id": "HH-YGYjmXk1G"
      }
    }
  ]
}